{
 "cells": [
  {
   "cell_type": "markdown",
   "metadata": {},
   "source": []
  },
  {
   "cell_type": "code",
   "execution_count": 25,
   "metadata": {},
   "outputs": [
    {
     "name": "stdout",
     "output_type": "stream",
     "text": [
      "abcdefghijklmnopqrstuvwxyz\n",
      "zyxwvutsrqponmlkjihgfedcba\n"
     ]
    }
   ],
   "source": [
    "test = \"abcdefghijklmnopqrstuvwxyz\"\n",
    "test2 = (test[::-1])\n",
    "print(test)\n",
    "print(test2)"
   ]
  },
  {
   "cell_type": "code",
   "execution_count": 38,
   "metadata": {},
   "outputs": [
    {
     "name": "stdout",
     "output_type": "stream",
     "text": [
      "join: \n",
      "b+a+n+a+a+n\n",
      "appel+en+banaan\n"
     ]
    }
   ],
   "source": [
    "fruit=(\"appel\",\"en\",\"banaan\")\n",
    "print(\"join: \")\n",
    "zin = \"+\".join(fruit[2])\n",
    "zin2 = \"+\".join(fruit)\n",
    "print(zin)\n",
    "print(zin2)"
   ]
  },
  {
   "cell_type": "code",
   "execution_count": 72,
   "metadata": {},
   "outputs": [
    {
     "name": "stdout",
     "output_type": "stream",
     "text": [
      "23\n"
     ]
    }
   ],
   "source": [
    "tekst = '\\\n",
    "appel,peer,banaan,kers,appel,kers,\\\n",
    "kers,mango,appel,kers,tomaat,\\\n",
    "banaan,appel,appel,appel,appel,kers,\\\n",
    "banaan,appel,banaan,kers,tomaat,mango'\n",
    "tekst = tekst.split(\",\")\n",
    "print(len(tekst))"
   ]
  },
  {
   "cell_type": "code",
   "execution_count": 71,
   "metadata": {},
   "outputs": [
    {
     "name": "stdout",
     "output_type": "stream",
     "text": [
      "50\n"
     ]
    }
   ],
   "source": [
    "tekst= '\\\n",
    "Update je gaming setup met de \\\n",
    "AMD Advanced Upgrade Kit met Ryzen 7 3700X. \\\n",
    "Deze kit bestaat uit een processor, \\\n",
    "een moederbord, intern geheugen en koelpasta.'\n",
    "\n",
    "tekst = tekst.lower()\n",
    "\n",
    "teller = 0\n",
    "for letter in tekst:\n",
    "    if letter in 'aeuio':\n",
    "        teller += 1\n",
    "print(teller)"
   ]
  },
  {
   "cell_type": "code",
   "execution_count": 1,
   "metadata": {},
   "outputs": [
    {
     "name": "stdout",
     "output_type": "stream",
     "text": [
      "|    32    |    48  0 |    64  @ |    80  P |    96  ` |    112 p |\n",
      "|    33  ! |    49  1 |    65  A |    81  Q |    97  a |    113 q |\n",
      "|    34  \" |    50  2 |    66  B |    82  R |    98  b |    114 r |\n",
      "|    35  # |    51  3 |    67  C |    83  S |    99  c |    115 s |\n",
      "|    36  $ |    52  4 |    68  D |    84  T |    100 d |    116 t |\n",
      "|    37  % |    53  5 |    69  E |    85  U |    101 e |    117 u |\n",
      "|    38  & |    54  6 |    70  F |    86  V |    102 f |    118 v |\n",
      "|    39  ' |    55  7 |    71  G |    87  W |    103 g |    119 w |\n",
      "|    40  ( |    56  8 |    72  H |    88  X |    104 h |    120 x |\n",
      "|    41  ) |    57  9 |    73  I |    89  Y |    105 i |    121 y |\n",
      "|    42  * |    58  : |    74  J |    90  Z |    106 j |    122 z |\n",
      "|    43  + |    59  ; |    75  K |    91  [ |    107 k |    123 { |\n",
      "|    44  , |    60  < |    76  L |    92  \\ |    108 l |    124 | |\n",
      "|    45  - |    61  = |    77  M |    93  ] |    109 m |    125 } |\n",
      "|    46  . |    62  > |    78  N |    94  ^ |    110 n |    126 ~ |\n",
      "|    47  / |    63  ? |    79  O |    95  _ |    111 o |    127  |\n",
      "|    32    |    48  0 |    64  @ |    80  P |    96  ` |    112 p |\n",
      "|    33  ! |    49  1 |    65  A |    81  Q |    97  a |    113 q |\n",
      "|    34  \" |    50  2 |    66  B |    82  R |    98  b |    114 r |\n",
      "|    35  # |    51  3 |    67  C |    83  S |    99  c |    115 s |\n",
      "|    36  $ |    52  4 |    68  D |    84  T |    100 d |    116 t |\n",
      "|    37  % |    53  5 |    69  E |    85  U |    101 e |    117 u |\n",
      "|    38  & |    54  6 |    70  F |    86  V |    102 f |    118 v |\n",
      "|    39  ' |    55  7 |    71  G |    87  W |    103 g |    119 w |\n",
      "|    40  ( |    56  8 |    72  H |    88  X |    104 h |    120 x |\n",
      "|    41  ) |    57  9 |    73  I |    89  Y |    105 i |    121 y |\n",
      "|    42  * |    58  : |    74  J |    90  Z |    106 j |    122 z |\n",
      "|    43  + |    59  ; |    75  K |    91  [ |    107 k |    123 { |\n",
      "|    44  , |    60  < |    76  L |    92  \\ |    108 l |    124 | |\n",
      "|    45  - |    61  = |    77  M |    93  ] |    109 m |    125 } |\n",
      "|    46  . |    62  > |    78  N |    94  ^ |    110 n |    126 ~ |\n",
      "|    47  / |    63  ? |    79  O |    95  _ |    111 o |    127  |\n"
     ]
    }
   ],
   "source": [
    "teller = 32\n",
    "\n",
    "for x in range(16):\n",
    "    for y in range(6):\n",
    "\n",
    "        print(f\"{'|':<5}{teller:^3}{chr(teller):^3}\", end='')\n",
    "        teller = teller + 16\n",
    "\n",
    "    print('|')\n",
    "    teller = teller - 95\n",
    "\n",
    "\n",
    "start = 32\n",
    "\n",
    "for row in range(16):\n",
    "    for column in range(6):\n",
    "        \n",
    "        value = start + row + column * 16\n",
    "\n",
    "        print(f\"{'|':<5}{value:^3}{chr(value):^3}\", end='')\n",
    "\n",
    "    print('|')\n"
   ]
  }
 ],
 "metadata": {
  "interpreter": {
   "hash": "04be0b2c051b0b0275afc077ab8a1a3e34a745d8b365f41cfda62de07cdcc075"
  },
  "kernelspec": {
   "display_name": "Python 3.10.0 64-bit",
   "language": "python",
   "name": "python3"
  },
  "language_info": {
   "codemirror_mode": {
    "name": "ipython",
    "version": 3
   },
   "file_extension": ".py",
   "mimetype": "text/x-python",
   "name": "python",
   "nbconvert_exporter": "python",
   "pygments_lexer": "ipython3",
   "version": "3.10.0"
  },
  "orig_nbformat": 4
 },
 "nbformat": 4,
 "nbformat_minor": 2
}
