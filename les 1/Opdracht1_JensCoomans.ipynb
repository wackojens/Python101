{
 "cells": [
  {
   "cell_type": "code",
   "execution_count": null,
   "metadata": {},
   "outputs": [
    {
     "name": "stdout",
     "output_type": "stream",
     "text": [
      "50 °F is 10.0008 °C\n",
      "30 °C is 86.0 °F\n"
     ]
    }
   ],
   "source": [
    "# fahrenheit to celsius: subtract 32 and multiply by . 5556 (or 5/9)\n",
    "# celsius to fahrenheit: multiply by 1.8 (or 9/5) and add 32.\n",
    "\n",
    "fahrenheit =50\n",
    "celsius =30\n",
    "fahrToCel =((fahrenheit - 32) * 0.5556)\n",
    "celToFahr =(celsius * 1.8 + 32)\n",
    "\n",
    "print(fahrenheit, '°F', 'is', fahrToCel, '°C')\n",
    "print(celsius, '°C', 'is', celToFahr, '°F')"
   ]
  }
 ],
 "metadata": {
  "language_info": {
   "name": "python"
  },
  "orig_nbformat": 4
 },
 "nbformat": 4,
 "nbformat_minor": 2
}
