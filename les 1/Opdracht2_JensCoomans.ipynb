{
 "cells": [
  {
   "cell_type": "code",
   "execution_count": 12,
   "metadata": {},
   "outputs": [
    {
     "name": "stdout",
     "output_type": "stream",
     "text": [
      "Geef een geheel getal\n"
     ]
    }
   ],
   "source": [
    "try:\n",
    " bedrag =int(input(\"Enter your value: \"))\n",
    "\n",
    " aantal100 =(bedrag // 100)\n",
    " rest =(bedrag % 100)\n",
    " aantal50 =(rest // 50)\n",
    " rest =(rest % 50)\n",
    " aantal20 =(rest // 20)\n",
    " rest =(rest % 20)\n",
    " aantal10 =(rest // 10)\n",
    " rest =(rest % 10)\n",
    " aantal5 =(rest // 5)\n",
    " rest =(rest % 5)\n",
    " aantal2 =(rest // 2)\n",
    " rest =(rest % 2)\n",
    " aantal1 =(rest // 1)\n",
    " rest =(rest % 1)\n",
    "\n",
    " print(bedrag, 'bestaat', 'uit:', end=' ')\n",
    " print(aantal100, 'x', '100,', aantal50, 'x', '50,', aantal20, 'x', '20,', aantal10, 'x', '10,', aantal5, 'x', '5,', aantal2, 'x', '2,', 'en', aantal1, 'x', '1.')\n",
    " \n",
    "except:\n",
    " print('Geef een geheel getal')"
   ]
  }
 ],
 "metadata": {
  "interpreter": {
   "hash": "04be0b2c051b0b0275afc077ab8a1a3e34a745d8b365f41cfda62de07cdcc075"
  },
  "kernelspec": {
   "display_name": "Python 3.10.0 64-bit",
   "language": "python",
   "name": "python3"
  },
  "language_info": {
   "codemirror_mode": {
    "name": "ipython",
    "version": 3
   },
   "file_extension": ".py",
   "mimetype": "text/x-python",
   "name": "python",
   "nbconvert_exporter": "python",
   "pygments_lexer": "ipython3",
   "version": "3.10.0"
  },
  "orig_nbformat": 4
 },
 "nbformat": 4,
 "nbformat_minor": 2
}
