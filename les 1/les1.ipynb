{
 "cells": [
  {
   "cell_type": "code",
   "execution_count": 11,
   "metadata": {},
   "outputs": [
    {
     "name": "stdout",
     "output_type": "stream",
     "text": [
      "12\n"
     ]
    }
   ],
   "source": [
    "print(5+7)"
   ]
  },
  {
   "cell_type": "code",
   "execution_count": 12,
   "metadata": {},
   "outputs": [
    {
     "name": "stdout",
     "output_type": "stream",
     "text": [
      "first test python les:1\n"
     ]
    }
   ],
   "source": [
    "print( 'first', 'test', 'python', end=' ')\n",
    "print( 'les', '1', sep=':')"
   ]
  },
  {
   "cell_type": "code",
   "execution_count": 13,
   "metadata": {},
   "outputs": [
    {
     "name": "stdout",
     "output_type": "stream",
     "text": [
      "945.4499999999999\n"
     ]
    }
   ],
   "source": [
    "print(24.95 * 0.6 * 60 + 3 + (0.75 * 59) )"
   ]
  },
  {
   "cell_type": "code",
   "execution_count": 14,
   "metadata": {},
   "outputs": [
    {
     "name": "stdout",
     "output_type": "stream",
     "text": [
      "945.4499999999999\n"
     ]
    }
   ],
   "source": [
    "aantalBoeken =60\n",
    "korting =40\n",
    "prijsBoek =24.95\n",
    "verzendingEerste =3\n",
    "# verzending 3EURO eerste boek, 0.75 voor de rest\n",
    "uitkomst =(prijsBoek * ((100 - korting) / 100) * aantalBoeken + 3 + (0.75 * (aantalBoeken - 1)))\n",
    "\n",
    "print(uitkomst)"
   ]
  },
  {
   "cell_type": "code",
   "execution_count": 15,
   "metadata": {},
   "outputs": [
    {
     "name": "stdout",
     "output_type": "stream",
     "text": [
      "het alarm gaat af na 22 en 7 uren\n",
      "Het alarm gaat af om 21 uur\n"
     ]
    }
   ],
   "source": [
    "start =14\n",
    "uren =535\n",
    "urenMod =(uren % 24)\n",
    "dagen =(uren // 24)\n",
    "tijdstip =(start + urenMod)\n",
    "\n",
    "print('het', 'alarm', 'gaat', 'af', 'na', dagen, 'en', urenMod, 'uren')\n",
    "print('Het', 'alarm', 'gaat', 'af', 'om', tijdstip, 'uur')\n"
   ]
  },
  {
   "cell_type": "code",
   "execution_count": 16,
   "metadata": {},
   "outputs": [
    {
     "name": "stdout",
     "output_type": "stream",
     "text": [
      "12.428571428571429\n"
     ]
    }
   ],
   "source": [
    "i =5\n",
    "j =9\n",
    "k =11\n",
    "l =51\n",
    "m =1\n",
    "n =3\n",
    "o =7\n",
    "\n",
    "print((i + j + k + l + m + n + o) / 7)"
   ]
  },
  {
   "cell_type": "code",
   "execution_count": 17,
   "metadata": {},
   "outputs": [
    {
     "name": "stdout",
     "output_type": "stream",
     "text": [
      "78.53981633974483\n"
     ]
    }
   ],
   "source": [
    "straal =5\n",
    "pi =3.14159265358979323846\n",
    "oppervlakte =(straal * straal * pi)\n",
    "\n",
    "print(oppervlakte)"
   ]
  },
  {
   "cell_type": "code",
   "execution_count": 18,
   "metadata": {},
   "outputs": [
    {
     "name": "stdout",
     "output_type": "stream",
     "text": [
      "7 5\n"
     ]
    }
   ],
   "source": [
    "a =5\n",
    "b =7\n",
    "a, b = b, a\n",
    "\n",
    "print(a , b)"
   ]
  },
  {
   "cell_type": "code",
   "execution_count": 19,
   "metadata": {},
   "outputs": [
    {
     "name": "stdout",
     "output_type": "stream",
     "text": [
      "50 °F is 10.0008 °C\n",
      "30 °C is 86.0 °F\n"
     ]
    }
   ],
   "source": [
    "# fahrenheit to celsius: subtract 32 and multiply by . 5556 (or 5/9)\n",
    "# celsius to fahrenheit: multiply by 1.8 (or 9/5) and add 32.\n",
    "fahrenheit =50\n",
    "celsius =30\n",
    "fahrToCel =((fahrenheit - 32) * 0.5556)\n",
    "celToFahr =(celsius * 1.8 + 32)\n",
    "\n",
    "print(fahrenheit, '°F', 'is', fahrToCel, '°C')\n",
    "print(celsius, '°C', 'is', celToFahr, '°F')"
   ]
  },
  {
   "cell_type": "code",
   "execution_count": 20,
   "metadata": {},
   "outputs": [
    {
     "name": "stdout",
     "output_type": "stream",
     "text": [
      "188 bestaat uit: 1 x 100, 1 x 50, 1 x 20, 1 x 10, 1 x 5, 1 x 2, en 1 x 1.\n"
     ]
    }
   ],
   "source": [
    "try:\n",
    " bedrag =int(input(\"Enter your value: \"))\n",
    " aantal100 =(bedrag // 100)\n",
    " rest =(bedrag % 100)\n",
    " aantal50 =(rest // 50)\n",
    " rest =(rest % 50)\n",
    " aantal20 =(rest // 20)\n",
    " rest =(rest % 20)\n",
    " aantal10 =(rest // 10)\n",
    " rest =(rest % 10)\n",
    " aantal5 =(rest // 5)\n",
    " rest =(rest % 5)\n",
    " aantal2 =(rest // 2)\n",
    " rest =(rest % 2)\n",
    " aantal1 =(rest // 1)\n",
    " rest =(rest % 1)\n",
    " print(bedrag, 'bestaat', 'uit:', end=' ')\n",
    " print(aantal100, 'x', '100,', aantal50, 'x', '50,', aantal20, 'x', '20,', aantal10, 'x', '10,', aantal5, 'x', '5,', aantal2, 'x', '2,', 'en', aantal1, 'x', '1.')\n",
    "except:\n",
    " print('Geef een geheel getal')"
   ]
  }
 ],
 "metadata": {
  "interpreter": {
   "hash": "04be0b2c051b0b0275afc077ab8a1a3e34a745d8b365f41cfda62de07cdcc075"
  },
  "kernelspec": {
   "display_name": "Python 3.10.0 64-bit",
   "name": "python3"
  },
  "language_info": {
   "codemirror_mode": {
    "name": "ipython",
    "version": 3
   },
   "file_extension": ".py",
   "mimetype": "text/x-python",
   "name": "python",
   "nbconvert_exporter": "python",
   "pygments_lexer": "ipython3",
   "version": "3.10.0"
  },
  "orig_nbformat": 4
 },
 "nbformat": 4,
 "nbformat_minor": 2
}
