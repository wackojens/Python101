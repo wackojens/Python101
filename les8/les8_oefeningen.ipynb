{
 "cells": [
  {
   "cell_type": "code",
   "execution_count": null,
   "metadata": {},
   "outputs": [],
   "source": [
    "namen = []\n",
    "\n",
    "naam = input('Geef een naam in of druk op enter om te stoppen: ')\n",
    "\n",
    "while naam != '':\n",
    "    namen.append(naam[0].upper() + naam[1:].lower())\n",
    "    naam = input('Geef een naam in of druk op enter om te stoppen: ')\n",
    "\n",
    "namen.sort()\n",
    "\n",
    "for naam in namen:\n",
    "    print(naam)"
   ]
  },
  {
   "cell_type": "code",
   "execution_count": null,
   "metadata": {},
   "outputs": [],
   "source": [
    "import pcinput\n",
    "\n",
    "nummers = []\n",
    "nummer = pcinput.getString('Geef een getal in: ')\n",
    "\n",
    "while nummer != '':\n",
    "    nummers.append(float(nummer))\n",
    "    nummer = pcinput.getString('Geef een getal in: ')\n",
    "\n",
    "nummers.sort(key=abs)\n",
    "print(nummers)"
   ]
  },
  {
   "cell_type": "code",
   "execution_count": null,
   "metadata": {},
   "outputs": [],
   "source": [
    "fruitlist = ['appel', 'banaan', 'kers', 'peer', 'mango', 'aardbei']\n",
    "\n",
    "i = -1\n",
    "for fruit in fruitlist:\n",
    "    fruit = fruitlist[i]\n",
    "    fruit = fruit.upper()\n",
    "    print(fruit)\n",
    "    i -= 1\n",
    "\n",
    "###############################################\n",
    "\n",
    "for fruit in fruitlist:\n",
    "    fruit = fruit.upper()\n",
    "    print(fruit)\n",
    "\n",
    "fruitlist.reverse()\n",
    "print(fruitlist)"
   ]
  },
  {
   "cell_type": "code",
   "execution_count": null,
   "metadata": {},
   "outputs": [],
   "source": []
  }
 ],
 "metadata": {
  "interpreter": {
   "hash": "04be0b2c051b0b0275afc077ab8a1a3e34a745d8b365f41cfda62de07cdcc075"
  },
  "kernelspec": {
   "display_name": "Python 3.10.0 64-bit",
   "language": "python",
   "name": "python3"
  },
  "language_info": {
   "codemirror_mode": {
    "name": "ipython",
    "version": 3
   },
   "file_extension": ".py",
   "mimetype": "text/x-python",
   "name": "python",
   "nbconvert_exporter": "python",
   "pygments_lexer": "ipython3",
   "version": "3.10.0"
  },
  "orig_nbformat": 4
 },
 "nbformat": 4,
 "nbformat_minor": 2
}
