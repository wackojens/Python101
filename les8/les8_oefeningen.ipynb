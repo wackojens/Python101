{
 "cells": [
  {
   "cell_type": "code",
   "execution_count": null,
   "metadata": {},
   "outputs": [],
   "source": [
    "namen = []\n",
    "\n",
    "naam = input('Geef een naam in of druk op enter om te stoppen: ')\n",
    "\n",
    "while naam != '':\n",
    "    namen.append(naam[0].upper() + naam[1:].lower())\n",
    "    naam = input('Geef een naam in of druk op enter om te stoppen: ')\n",
    "\n",
    "namen.sort()\n",
    "\n",
    "for naam in namen:\n",
    "    print(naam)"
   ]
  },
  {
   "cell_type": "code",
   "execution_count": null,
   "metadata": {},
   "outputs": [],
   "source": [
    "import pcinput\n",
    "\n",
    "nummers = []\n",
    "nummer = pcinput.getString('Geef een getal in: ')\n",
    "\n",
    "while nummer != '':\n",
    "    nummers.append(float(nummer))\n",
    "    nummer = pcinput.getString('Geef een getal in: ')\n",
    "\n",
    "nummers.sort(key=abs)\n",
    "print(nummers)"
   ]
  },
  {
   "cell_type": "code",
   "execution_count": null,
   "metadata": {},
   "outputs": [],
   "source": [
    "fruitlist = ['appel', 'banaan', 'kers', 'peer', 'mango', 'aardbei']\n",
    "\n",
    "i = -1\n",
    "for fruit in fruitlist:\n",
    "    fruit = fruitlist[i]\n",
    "    fruit = fruit.upper()\n",
    "    print(fruit)\n",
    "    i -= 1\n",
    "\n",
    "###############################################\n",
    "\n",
    "for fruit in fruitlist:\n",
    "    fruit = fruit.upper()\n",
    "    print(fruit)\n",
    "\n",
    "fruitlist.reverse()\n",
    "print(fruitlist)"
   ]
  },
  {
   "cell_type": "code",
   "execution_count": 64,
   "metadata": {},
   "outputs": [
    {
     "name": "stdout",
     "output_type": "stream",
     "text": [
      "[('Ruiten', '9'), ('Schoppen', '3'), ('Schoppen', 'Boer'), ('Ruiten', 'Aas'), ('Ruiten', '6')]\n"
     ]
    }
   ],
   "source": [
    "'''Een speelkaart heeft een soort (\"Harten\", \"Schoppen\", \"Klaveren\",\n",
    "\"Ruiten\") en een waarde (2, 3, 4, 5, 6, 7, 8, 9, 10, \"Boer\", \"Vrouw\",\n",
    "\"Heer\", \"Aas\").\n",
    "1. Maak een functie die een list met alle mogelijke speelkaarten\n",
    "(tuples van soort en waarde) maakt, wat ook wel een kaartspel\n",
    "wordt genoemd.\n",
    "2. Schrijf dan een functie die het kaartspel schudt, en dus een\n",
    "toevallige volgorde van de kaarten veroorzaakt.\n",
    "3. Toon de eerste 5 kaarten'''\n",
    "\n",
    "import random\n",
    "\n",
    "def getCards():\n",
    "    cardType = ['Harten', 'Schoppen', 'Klaveren', 'Ruiten']\n",
    "    cardValue = ['2', '3', '4', '5', '6', '7', '8', '9', '10', 'Boer', 'Vrouw', 'Heer', 'Aas']\n",
    "    cards = []\n",
    "\n",
    "    for type in cardType:\n",
    "        for value in cardValue:\n",
    "            card = (type, value)\n",
    "            cards.append(card)\n",
    "    return cards\n",
    "\n",
    "cardDeck = getCards()\n",
    "random.shuffle(cardDeck)\n",
    "\n",
    "print(cardDeck[:5])\n",
    "            "
   ]
  }
 ],
 "metadata": {
  "interpreter": {
   "hash": "04be0b2c051b0b0275afc077ab8a1a3e34a745d8b365f41cfda62de07cdcc075"
  },
  "kernelspec": {
   "display_name": "Python 3.10.0 64-bit",
   "language": "python",
   "name": "python3"
  },
  "language_info": {
   "codemirror_mode": {
    "name": "ipython",
    "version": 3
   },
   "file_extension": ".py",
   "mimetype": "text/x-python",
   "name": "python",
   "nbconvert_exporter": "python",
   "pygments_lexer": "ipython3",
   "version": "3.10.0"
  },
  "orig_nbformat": 4
 },
 "nbformat": 4,
 "nbformat_minor": 2
}
