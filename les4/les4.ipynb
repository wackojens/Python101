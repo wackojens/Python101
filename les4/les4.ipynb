{
 "cells": [
  {
   "cell_type": "code",
   "execution_count": null,
   "metadata": {},
   "outputs": [],
   "source": [
    "from pcinput import getInteger\n",
    "totaal = 0\n",
    "num = getInteger('Geef een nummer (0 om te stoppen): ')\n",
    "teller = 0\n",
    "\n",
    "while num != 0:\n",
    "    totaal += num\n",
    "    num = getInteger('Geef een nummer (0 om te stoppen): ')\n",
    "    teller += 1\n",
    "    \n",
    "print('Totaal is', totaal)\n",
    "print('Gemiddelde is', round((totaal/teller), 2) )"
   ]
  },
  {
   "cell_type": "code",
   "execution_count": null,
   "metadata": {},
   "outputs": [],
   "source": [
    "teller = 0\n",
    "\n",
    "while teller < 5:\n",
    "    print('Python is leuk!')\n",
    "    teller += 1"
   ]
  },
  {
   "cell_type": "code",
   "execution_count": null,
   "metadata": {},
   "outputs": [],
   "source": [
    "geboorteJaar = int(input('Geef je geboortejaar: '))\n",
    "leeftijd = 0\n",
    "jaar = geboorteJaar\n",
    "\n",
    "while jaar <= 2020:\n",
    "    print('in', jaar, end=' ')\n",
    "    print('was ik',  leeftijd, 'jaar oud')\n",
    "    leeftijd += 1\n",
    "    jaar = geboorteJaar + leeftijd"
   ]
  },
  {
   "cell_type": "code",
   "execution_count": null,
   "metadata": {},
   "outputs": [],
   "source": [
    "ratPopulation = 2000000\n",
    "year = 2021\n",
    "\n",
    "while ratPopulation < 10000000:\n",
    "    year += 1\n",
    "    ratPopulation = ratPopulation * 1.15\n",
    "\n",
    "print(int(ratPopulation))\n",
    "print(year)"
   ]
  },
  {
   "cell_type": "code",
   "execution_count": null,
   "metadata": {},
   "outputs": [],
   "source": [
    "num1 = 0\n",
    "num2 = 1\n",
    "teller = 1\n",
    "print(num1)\n",
    "\n",
    "while teller < 10:\n",
    "    print(num2)\n",
    "    som = num1 + num2\n",
    "    num1 = num2\n",
    "    num2 = som\n",
    "    teller += 1"
   ]
  },
  {
   "cell_type": "code",
   "execution_count": null,
   "metadata": {},
   "outputs": [],
   "source": [
    "import pcinput\n",
    "teller = 0\n",
    "som = 0\n",
    "\n",
    "number = pcinput.getInteger('Geef een geheel getal in: ')\n",
    "\n",
    "while teller <= number:\n",
    "    som = som + teller\n",
    "    teller += 1\n",
    "\n",
    "print(som)"
   ]
  },
  {
   "cell_type": "code",
   "execution_count": 32,
   "metadata": {},
   "outputs": [],
   "source": [
    "randomInput = input('Geef iets in. Druk op \"J\" om te stoppen.')\n",
    "\n",
    "while randomInput != \"J\":\n",
    "    randomInput = input('Geef iets in. Druk op \"J\" om te stoppen.')"
   ]
  },
  {
   "cell_type": "code",
   "execution_count": null,
   "metadata": {},
   "outputs": [],
   "source": [
    "import pcinput\n",
    "\n",
    "teller = 1\n",
    "number = pcinput.getFloat('Geef een getal in: ')\n",
    "result = 0\n",
    "\n",
    "while teller <= 10:\n",
    "    result = number * teller\n",
    "    teller +=1\n",
    "    print(result)\n",
    "    "
   ]
  },
  {
   "cell_type": "code",
   "execution_count": null,
   "metadata": {},
   "outputs": [],
   "source": [
    "import random\n",
    "teller = 0\n",
    "percentage = 0\n",
    "questionAmount = 5\n",
    "solutions = []\n",
    "\n",
    "while teller != questionAmount:\n",
    "    num1 = random.randint(1, 1000)\n",
    "    num2 = random.randint(1, 1000)\n",
    "    result = num1 + num2\n",
    "    solutions.append(result)\n",
    "    print( num1, '+', num2, '=', end=' ')\n",
    "    answer = int(input('Geef de oplossing in: '))\n",
    "    print(answer)\n",
    "    if num1 + num2 == answer:\n",
    "        percentage = percentage + (100 / questionAmount)\n",
    "    teller += 1\n",
    "\n",
    "for solution in solutions:\n",
    "    print(solution)\n",
    "if percentage >= 50:\n",
    "    print('Geslaagd')\n",
    "else:\n",
    "    print('Niet geslaagd')"
   ]
  },
  {
   "cell_type": "code",
   "execution_count": null,
   "metadata": {},
   "outputs": [],
   "source": [
    "for x in range(5):\n",
    "    print('Python is leuk!')"
   ]
  },
  {
   "cell_type": "code",
   "execution_count": null,
   "metadata": {},
   "outputs": [],
   "source": [
    "geboorteJaar = int(input('Geef je geboortejaar: '))\n",
    "leeftijd = 0\n",
    "\n",
    "for jaar in range(geboorteJaar, 2021):\n",
    "    print('in', jaar, 'was ik', leeftijd , 'jaar oud')\n",
    "    leeftijd += 1"
   ]
  },
  {
   "cell_type": "code",
   "execution_count": null,
   "metadata": {},
   "outputs": [],
   "source": [
    "ratPopulation = 2000000\n",
    "year = 2021\n",
    "\n",
    "while ratPopulation < 10000000:\n",
    "    year += 1\n",
    "    ratPopulation = ratPopulation * 1.15\n",
    "\n",
    "print(int(ratPopulation))\n",
    "print(year)"
   ]
  },
  {
   "cell_type": "code",
   "execution_count": null,
   "metadata": {},
   "outputs": [],
   "source": [
    "num1 = 0\n",
    "num2 = 1\n",
    "\n",
    "print(num1)\n",
    "\n",
    "for teller in range(9):\n",
    "    print(num2)\n",
    "    num3 = num1 + num2\n",
    "    num1 = num2\n",
    "    num2 = num3"
   ]
  },
  {
   "cell_type": "code",
   "execution_count": null,
   "metadata": {},
   "outputs": [],
   "source": [
    "import pcinput\n",
    "\n",
    "number = pcinput.getInteger('Geef een geheel getal in: ')\n",
    "som = 0\n",
    "\n",
    "for x in range(number + 1):\n",
    "    som = som + x\n",
    "\n",
    "print(som)"
   ]
  },
  {
   "cell_type": "code",
   "execution_count": null,
   "metadata": {},
   "outputs": [],
   "source": [
    "randomInput = input('Geef iets in. Druk op \"J\" om te stoppen.')\n",
    "\n",
    "while randomInput != \"J\":\n",
    "    randomInput = input('Geef iets in. Druk op \"J\" om te stoppen.')"
   ]
  },
  {
   "cell_type": "code",
   "execution_count": null,
   "metadata": {},
   "outputs": [],
   "source": [
    "import pcinput\n",
    "\n",
    "number = pcinput.getInteger('Geef een getal in: ')\n",
    "result = 0\n",
    "\n",
    "for x in range(1, 11):\n",
    "    result = number * x\n",
    "    print(result)"
   ]
  },
  {
   "cell_type": "code",
   "execution_count": null,
   "metadata": {},
   "outputs": [],
   "source": [
    "import random\n",
    "\n",
    "percentage = 0\n",
    "questionAmount = 5\n",
    "solutions = []\n",
    "\n",
    "for x in range(questionAmount):\n",
    "    num1 = random.randint(1, 1000)\n",
    "    num2 = random.randint(1, 1000)\n",
    "    print( num1, '+', num2, '=', end=' ')\n",
    "    result = num1 + num2\n",
    "    solutions.append(result)\n",
    "    answer = int(input('Geef de oplossing in: '))\n",
    "    print(answer)\n",
    "    if num1 + num2 == answer:\n",
    "        percentage = percentage + (100 / questionAmount)\n",
    "\n",
    "for solution in solutions:\n",
    "    print(solution)\n",
    "if percentage >= 50:\n",
    "    print('Geslaagd')\n",
    "else:\n",
    "    print('Niet geslaagd')"
   ]
  }
 ],
 "metadata": {
  "interpreter": {
   "hash": "04be0b2c051b0b0275afc077ab8a1a3e34a745d8b365f41cfda62de07cdcc075"
  },
  "kernelspec": {
   "display_name": "Python 3.10.0 64-bit",
   "language": "python",
   "name": "python3"
  },
  "language_info": {
   "codemirror_mode": {
    "name": "ipython",
    "version": 3
   },
   "file_extension": ".py",
   "mimetype": "text/x-python",
   "name": "python",
   "nbconvert_exporter": "python",
   "pygments_lexer": "ipython3",
   "version": "3.10.0"
  },
  "orig_nbformat": 4
 },
 "nbformat": 4,
 "nbformat_minor": 2
}
