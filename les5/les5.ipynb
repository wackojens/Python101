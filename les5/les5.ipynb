{
 "cells": [
  {
   "cell_type": "code",
   "execution_count": null,
   "metadata": {},
   "outputs": [],
   "source": [
    "import this"
   ]
  },
  {
   "cell_type": "code",
   "execution_count": null,
   "metadata": {},
   "outputs": [],
   "source": [
    "#eindeloze loop\n",
    "\n",
    "getallen = [1,2,3]\n",
    "\n",
    "for getal in getallen:\n",
    "    print(getal)\n",
    "    getallen.append('b')"
   ]
  },
  {
   "cell_type": "code",
   "execution_count": 2,
   "metadata": {},
   "outputs": [
    {
     "name": "stdout",
     "output_type": "stream",
     "text": [
      "appel\n",
      "mango\n",
      "aardbei\n",
      "De loop eindigt, fruit is nu aardbei\n"
     ]
    }
   ],
   "source": [
    "for fruit in (\"appel\", \"mango\", \"aardbei\"):\n",
    "    print(fruit)\n",
    "else:\n",
    "    print(\"De loop eindigt, fruit is nu\", fruit)\n"
   ]
  },
  {
   "cell_type": "code",
   "execution_count": 4,
   "metadata": {},
   "outputs": [
    {
     "name": "stdout",
     "output_type": "stream",
     "text": [
      "428571 is drie keer 142857\n"
     ]
    }
   ],
   "source": [
    "i = 1\n",
    "while i <= 1000000:\n",
    "    num1 = int(\"1\" + str(i))\n",
    "    num2 = int(str(i) + \"1\")\n",
    "    if num2 == 3 * num1:\n",
    "        print(num2, \"is drie keer\", num1)\n",
    "        break\n",
    "    i += 1\n",
    "else:\n",
    "    print(\"Geen antwoord gevonden\")"
   ]
  },
  {
   "cell_type": "code",
   "execution_count": null,
   "metadata": {},
   "outputs": [],
   "source": [
    "for x in range(1,21):\n",
    "    for y in range(1,11):\n",
    "        print((\"{:>02}x{:>02}={:>03}\").format(x,y,x*y), end='  ')\n",
    "    print()"
   ]
  },
  {
   "cell_type": "code",
   "execution_count": null,
   "metadata": {},
   "outputs": [],
   "source": [
    "for x in range(2,101):\n",
    "    priem = True\n",
    "    for y in range(2,x):\n",
    "        if x % y == 0:\n",
    "            priem = False\n",
    "    if priem:\n",
    "        print(x)\n",
    "\n",
    "    "
   ]
  },
  {
   "cell_type": "code",
   "execution_count": 45,
   "metadata": {},
   "outputs": [
    {
     "name": "stdout",
     "output_type": "stream",
     "text": [
      "2\n",
      "3\n",
      "5\n",
      "7\n",
      "11\n",
      "13\n",
      "17\n",
      "19\n",
      "23\n",
      "29\n",
      "31\n",
      "37\n",
      "41\n",
      "43\n",
      "47\n",
      "53\n",
      "59\n",
      "61\n",
      "67\n",
      "71\n",
      "73\n",
      "79\n",
      "83\n",
      "89\n",
      "97\n"
     ]
    }
   ],
   "source": [
    "x = 1\n",
    "y = 1\n",
    "\n",
    "while x < 100:\n",
    "    priem = True\n",
    "    x += 1\n",
    "    y = 1\n",
    "    while y < x-1:\n",
    "        y += 1\n",
    "        if x % y == 0:\n",
    "            priem = False\n",
    "    if priem:\n",
    "        print(x)\n",
    "           "
   ]
  }
 ],
 "metadata": {
  "interpreter": {
   "hash": "04be0b2c051b0b0275afc077ab8a1a3e34a745d8b365f41cfda62de07cdcc075"
  },
  "kernelspec": {
   "display_name": "Python 3.10.0 64-bit",
   "language": "python",
   "name": "python3"
  },
  "language_info": {
   "codemirror_mode": {
    "name": "ipython",
    "version": 3
   },
   "file_extension": ".py",
   "mimetype": "text/x-python",
   "name": "python",
   "nbconvert_exporter": "python",
   "pygments_lexer": "ipython3",
   "version": "3.10.0"
  },
  "orig_nbformat": 4
 },
 "nbformat": 4,
 "nbformat_minor": 2
}
