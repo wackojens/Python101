{
 "cells": [
  {
   "cell_type": "code",
   "execution_count": 13,
   "metadata": {},
   "outputs": [
    {
     "name": "stdout",
     "output_type": "stream",
     "text": [
      "\"Totaal te betalen: 175 euro\"\n"
     ]
    }
   ],
   "source": [
    "prijsMosselen =20\n",
    "prijsKoninginnenhapje =10\n",
    "prijsIjs =3\n",
    "prijsDrank =2\n",
    "while True:\n",
    "    try:\n",
    "        mosselen =int(input('Geef het aantal keer mosselen in: '))\n",
    "        break\n",
    "    except ValueError:\n",
    "        print('verkeerde input. Geef aantal mosselen opnieuw in')\n",
    "while True:\n",
    "    try:\n",
    "        koninginnenhapje =int(input('Geef het aantal keer koninginnenhapje in: '))\n",
    "        break\n",
    "    except ValueError:\n",
    "        print('verkeerde input. Geef aantal koninginnenhapjes opnieuw in')\n",
    "while True:\n",
    "    try:\n",
    "        ijsje =int(input('Geef het aantal ijsjes in: '))\n",
    "        break\n",
    "    except ValueError:\n",
    "        print('verkeerde input. Geef aantal ijsjes opnieuw in')\n",
    "while True:\n",
    "    try:\n",
    "        drank =int(input('Geef het aantal drankjes in: '))\n",
    "        break\n",
    "    except ValueError:\n",
    "        print('verkeerde input. Geef aantal drankjes opnieuw in')\n",
    "totaal =(prijsMosselen * mosselen) + (prijsKoninginnenhapje * koninginnenhapje) + (prijsIjs * ijsje) + (prijsDrank * drank)\n",
    "\n",
    "\n",
    "\n",
    "print('\"Totaal te betalen:', totaal, 'euro\"')"
   ]
  },
  {
   "cell_type": "code",
   "execution_count": 11,
   "metadata": {},
   "outputs": [
    {
     "name": "stdout",
     "output_type": "stream",
     "text": [
      "Totaal te betalen: 175 euro\n",
      "betaalde bedrag is: 1000.0\n",
      "uw wisselgeld is: 825.0\n",
      "1 maal 500\n",
      "1 maal 200\n",
      "1 maal 100\n",
      "1 maal 20\n",
      "1 maal 5\n",
      "============================================================\n",
      "Mosselen                       5                 100 \n"
     ]
    }
   ],
   "source": [
    "import pcinput\n",
    "prijsMosselen = 20\n",
    "prijsKoninginnenhapje = 10\n",
    "prijsIjs = 3\n",
    "prijsDrank = 2\n",
    "\n",
    "totaalMosselen = pcinput.getInteger('Geef het aantal porties mosselen in')\n",
    "totaalKoninginnenhapje = pcinput.getInteger('Geef het aantal porties koninginnenhapje in')\n",
    "totaalIjs = pcinput.getInteger('Geef het aantal ijsjes in')\n",
    "totaalDrank = pcinput.getInteger('Geef het aantal drankjes in')\n",
    "totaal =(prijsMosselen * totaalMosselen) + (prijsKoninginnenhapje * totaalKoninginnenhapje) + (prijsIjs * totaalIjs) + (prijsDrank * totaalDrank)\n",
    "\n",
    "print('Totaal te betalen:', totaal, 'euro')\n",
    "\n",
    "while True:\n",
    "    try:\n",
    "        ontvangen = float(input('Geef ontvangen bedrag in'))\n",
    "        break\n",
    "    except ValueError:\n",
    "        print('verkeerde input. Geef bedrag opnieuw in')\n",
    "wisselgeld = ontvangen - totaal\n",
    "\n",
    "print('betaalde bedrag is:', ontvangen)\n",
    "print('uw wisselgeld is:', wisselgeld)\n",
    "\n",
    "totaal500, rest = pcinput.berekenMuntstukken(wisselgeld, 500)\n",
    "totaal200, rest = pcinput.berekenMuntstukken(rest, 200)\n",
    "totaal100, rest = pcinput.berekenMuntstukken(rest, 100)\n",
    "totaal50, rest = pcinput.berekenMuntstukken(rest, 50)\n",
    "totaal20, rest = pcinput.berekenMuntstukken(rest, 20)\n",
    "totaal10, rest = pcinput.berekenMuntstukken(rest, 10)\n",
    "totaal5, rest = pcinput.berekenMuntstukken(rest, 5)\n",
    "totaal2, rest = pcinput.berekenMuntstukken(rest, 2)\n",
    "totaal1, rest = pcinput.berekenMuntstukken(rest, 1)\n",
    "totaal50C, rest = pcinput.berekenMuntstukken(rest, 0.50)\n",
    "totaal20C, rest = pcinput.berekenMuntstukken(rest, 0.20)\n",
    "totaal10C, rest = pcinput.berekenMuntstukken(rest, 0.10)\n",
    "totaal5C, rest = pcinput.berekenMuntstukken(rest, 0.05)\n",
    "totaal2C, rest = pcinput.berekenMuntstukken(rest, 0.02)\n",
    "totaal1C, rest = pcinput.berekenMuntstukken(rest, 0.01)\n",
    "\n",
    "pcinput.muntenWisselgeld(totaal500, 500)\n",
    "pcinput.muntenWisselgeld(totaal200, 200)\n",
    "pcinput.muntenWisselgeld(totaal100, 100)\n",
    "pcinput.muntenWisselgeld(totaal50, 50)\n",
    "pcinput.muntenWisselgeld(totaal20, 20)\n",
    "pcinput.muntenWisselgeld(totaal10, 10)\n",
    "pcinput.muntenWisselgeld(totaal5, 5)\n",
    "pcinput.muntenWisselgeld(totaal2, 2)\n",
    "pcinput.muntenWisselgeld(totaal1, 1)\n",
    "pcinput.muntenWisselgeld(totaal50C, 0.50)\n",
    "pcinput.muntenWisselgeld(totaal20C, 0.20)\n",
    "pcinput.muntenWisselgeld(totaal10C, 0.10)\n",
    "pcinput.muntenWisselgeld(totaal5C, 0.05)\n",
    "pcinput.muntenWisselgeld(totaal2C, 0.02)\n",
    "pcinput.muntenWisselgeld(totaal1C, 0.01)\n",
    "\n",
    "print('='*60)\n",
    "print(f\"{'Mosselen':<40} {totaalMosselen:<10} {totaalMosselen * prijsMosselen:>10} \")"
   ]
  },
  {
   "cell_type": "code",
   "execution_count": null,
   "metadata": {},
   "outputs": [],
   "source": []
  }
 ],
 "metadata": {
  "interpreter": {
   "hash": "04be0b2c051b0b0275afc077ab8a1a3e34a745d8b365f41cfda62de07cdcc075"
  },
  "kernelspec": {
   "display_name": "Python 3.10.0 64-bit",
   "language": "python",
   "name": "python3"
  },
  "language_info": {
   "codemirror_mode": {
    "name": "ipython",
    "version": 3
   },
   "file_extension": ".py",
   "mimetype": "text/x-python",
   "name": "python",
   "nbconvert_exporter": "python",
   "pygments_lexer": "ipython3",
   "version": "3.10.0"
  },
  "orig_nbformat": 4
 },
 "nbformat": 4,
 "nbformat_minor": 2
}
